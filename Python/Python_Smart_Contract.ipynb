{
 "cells": [
  {
   "cell_type": "code",
   "execution_count": 1,
   "metadata": {},
   "outputs": [],
   "source": [
    "import os\n",
    "from web3 import Web3\n",
    "from dotenv import load_dotenv\n",
    "from web3.middleware import geth_poa_middleware\n",
    "from eth_account import Account\n",
    "from pathlib import Path\n",
    "from getpass import getpass\n",
    "import json as json"
   ]
  },
  {
   "cell_type": "code",
   "execution_count": 2,
   "metadata": {},
   "outputs": [],
   "source": [
    "#Connect to webserver\n",
    "w3 = Web3(Web3.HTTPProvider(\"http://127.0.0.1:8545\"))\n",
    "w3.middleware_onion.inject(geth_poa_middleware, layer=0)\n",
    "#Opening abi.json file\n",
    "with open(\"serviceLayer_abi.json\", \"r\") as abi_file:\n",
    "    serrviceLayer_abi_data = json.load(abi_file)"
   ]
  },
  {
   "cell_type": "code",
   "execution_count": 3,
   "metadata": {
    "collapsed": true,
    "jupyter": {
     "outputs_hidden": true,
     "source_hidden": true
    }
   },
   "outputs": [
    {
     "data": {
      "text/plain": [
       "['0x53FEFAA910BC173fb7700dE65986E4e21B9f4FFc',\n",
       " '0x0D48BE7233B6EbB5ee51b967cf63c8aD1445f4A1',\n",
       " '0x54906eaD66C36edc21408309C03473e8eEd50ae6',\n",
       " '0x6F04E46a510690Fb8dE79831024Bd9DD1C880B78',\n",
       " '0xA2408C62C97C4eE536c6cB7c6de79b0CE7D08838',\n",
       " '0xDdF6c93B3d4B82EdbBa98B37bAEf12a2786840eB',\n",
       " '0x868D54BBdF86E4342e202e2649B25C3500cbbDE8',\n",
       " '0x2bd6c0A7a5C161039D6ef5f32A8B1D457cE7db42',\n",
       " '0xB6dce06283b7f5F7894441E28F49c04077410D55',\n",
       " '0x867e821063D5112F714ddBdc2Ae2D506fbD433b5']"
      ]
     },
     "execution_count": 3,
     "metadata": {},
     "output_type": "execute_result"
    }
   ],
   "source": [
    "#Get list of Wallet addresses\n",
    "w3.eth.accounts[0:10]"
   ]
  },
  {
   "cell_type": "code",
   "execution_count": 4,
   "metadata": {},
   "outputs": [],
   "source": [
    "# Plug in Smart Contract\n",
    "smart_contract_address = \"0xdBA2B2386973cD93d6Ac0A061c5577D518A234B1\"\n",
    "service_contract = w3.eth.contract(abi=serrviceLayer_abi_data,\n",
    "                                   address=smart_contract_address)"
   ]
  },
  {
   "cell_type": "code",
   "execution_count": 5,
   "metadata": {},
   "outputs": [],
   "source": [
    "# Set Default Account to Developer Account\n",
    "w3.eth.defaultAccount = w3.eth.accounts[1]"
   ]
  },
  {
   "cell_type": "code",
   "execution_count": 6,
   "metadata": {
    "collapsed": true,
    "jupyter": {
     "outputs_hidden": true,
     "source_hidden": true
    }
   },
   "outputs": [
    {
     "data": {
      "text/plain": [
       "[<Function add(uint256,address,uint256)>,\n",
       " <Function addBidders(uint256,address,uint256)>,\n",
       " <Function approve(address,uint256)>,\n",
       " <Function bid(uint256,address)>,\n",
       " <Function createAuction(uint256)>,\n",
       " <Function endAuction(uint256)>,\n",
       " <Function registerCar(string,string,string,string,string,uint256,uint256,uint256)>,\n",
       " <Function renounceOwnership()>,\n",
       " <Function safeTransferFrom(address,address,uint256)>,\n",
       " <Function safeTransferFrom(address,address,uint256,bytes)>,\n",
       " <Function setApprovalForAll(address,bool)>,\n",
       " <Function setBidderAddress(address)>,\n",
       " <Function setBidderAmount(uint256)>,\n",
       " <Function transferFrom(address,address,uint256)>,\n",
       " <Function transferOwnership(address)>,\n",
       " <Function auctionEnded(uint256)>,\n",
       " <Function balanceOf(address)>,\n",
       " <Function baseURI()>,\n",
       " <Function bidList(uint256,uint256)>,\n",
       " <Function Cars(uint256)>,\n",
       " <Function currentAuctionNumber()>,\n",
       " <Function getApproved(uint256)>,\n",
       " <Function getBidderAddress()>,\n",
       " <Function getBidderAmount()>,\n",
       " <Function highestBid(uint256)>,\n",
       " <Function highestBidder(uint256)>,\n",
       " <Function isApprovedForAll(address,address)>,\n",
       " <Function isOwner()>,\n",
       " <Function name()>,\n",
       " <Function owner()>,\n",
       " <Function ownerOf(uint256)>,\n",
       " <Function pendingReturn(uint256,address)>,\n",
       " <Function supportsInterface(bytes4)>,\n",
       " <Function symbol()>,\n",
       " <Function tokenByIndex(uint256)>,\n",
       " <Function tokenOfOwnerByIndex(address,uint256)>,\n",
       " <Function tokenURI(uint256)>,\n",
       " <Function totalSupply()>,\n",
       " <Function viewBiddersForTokenId(uint256)>,\n",
       " <Function viewCars(uint256)>]"
      ]
     },
     "execution_count": 6,
     "metadata": {},
     "output_type": "execute_result"
    }
   ],
   "source": [
    "# View All Functions!\n",
    "service_contract.all_functions()"
   ]
  },
  {
   "cell_type": "code",
   "execution_count": 8,
   "metadata": {},
   "outputs": [
    {
     "data": {
      "text/plain": [
       "HexBytes('0xc29bcbae9f53e3cf29cd5dba0fc5631321735a731381f63745ec591368833e46')"
      ]
     },
     "execution_count": 8,
     "metadata": {},
     "output_type": "execute_result"
    }
   ],
   "source": [
    "# 1.) Register Car & Create new Auction\n",
    "service_contract.functions.registerCar(\"VIN2raswfr343j\",\n",
    "                                     \"7070\",\n",
    "                                     \"Tesla\",\n",
    "                                     \"llsdf\",\n",
    "                                     \"LX\",\n",
    "                                     85000,\n",
    "                                     5,\n",
    "                                     500000).transact()\n",
    "\n",
    "# 2.) Add Bidder\n",
    "#Make money from changing string name - gas fee increases!\n",
    "service_contract.functions.addBidders(2,\"0x0D48BE7233B6EbB5ee51b967cf63c8aD1445f4A1\",\n",
    "                                      200000000000000000).transact()\n",
    "\n",
    "# 3.) Place Bid\n",
    "service_contract.functions.bid(2,\"0x0D48BE7233B6EbB5ee51b967cf63c8aD1445f4A1\").transact(\n",
    "    {'from':'0x0D48BE7233B6EbB5ee51b967cf63c8aD1445f4A1','value': w3.toWei(2,'ether')})\n",
    "\n",
    "# 4.) End Auction\n",
    "service_contract.functions.endAuction(1).transact()"
   ]
  },
  {
   "cell_type": "code",
   "execution_count": null,
   "metadata": {},
   "outputs": [],
   "source": []
  }
 ],
 "metadata": {
  "kernelspec": {
   "display_name": "Python 3",
   "language": "python",
   "name": "python3"
  },
  "language_info": {
   "codemirror_mode": {
    "name": "ipython",
    "version": 3
   },
   "file_extension": ".py",
   "mimetype": "text/x-python",
   "name": "python",
   "nbconvert_exporter": "python",
   "pygments_lexer": "ipython3",
   "version": "3.7.7"
  }
 },
 "nbformat": 4,
 "nbformat_minor": 4
}
